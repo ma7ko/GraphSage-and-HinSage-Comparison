{
 "cells": [
  {
   "cell_type": "code",
   "execution_count": 1,
   "id": "flush-combining",
   "metadata": {},
   "outputs": [
    {
     "data": {
      "text/html": [
       "<div>\n",
       "<style scoped>\n",
       "    .dataframe tbody tr th:only-of-type {\n",
       "        vertical-align: middle;\n",
       "    }\n",
       "\n",
       "    .dataframe tbody tr th {\n",
       "        vertical-align: top;\n",
       "    }\n",
       "\n",
       "    .dataframe thead th {\n",
       "        text-align: right;\n",
       "    }\n",
       "</style>\n",
       "<table border=\"1\" class=\"dataframe\">\n",
       "  <thead>\n",
       "    <tr style=\"text-align: right;\">\n",
       "      <th></th>\n",
       "      <th>name</th>\n",
       "      <th>collaborative</th>\n",
       "      <th>pid</th>\n",
       "      <th>modified_at</th>\n",
       "      <th>num_tracks</th>\n",
       "      <th>num_albums</th>\n",
       "      <th>num_followers</th>\n",
       "      <th>num_edits</th>\n",
       "      <th>duration_ms</th>\n",
       "      <th>num_artists</th>\n",
       "    </tr>\n",
       "  </thead>\n",
       "  <tbody>\n",
       "    <tr>\n",
       "      <th>0</th>\n",
       "      <td>Throwbacks</td>\n",
       "      <td>false</td>\n",
       "      <td>0</td>\n",
       "      <td>1493424000</td>\n",
       "      <td>52</td>\n",
       "      <td>47</td>\n",
       "      <td>1</td>\n",
       "      <td>6</td>\n",
       "      <td>11532414</td>\n",
       "      <td>37</td>\n",
       "    </tr>\n",
       "    <tr>\n",
       "      <th>1</th>\n",
       "      <td>Awesome Playlist</td>\n",
       "      <td>false</td>\n",
       "      <td>1</td>\n",
       "      <td>1506556800</td>\n",
       "      <td>39</td>\n",
       "      <td>23</td>\n",
       "      <td>1</td>\n",
       "      <td>5</td>\n",
       "      <td>11656470</td>\n",
       "      <td>21</td>\n",
       "    </tr>\n",
       "    <tr>\n",
       "      <th>2</th>\n",
       "      <td>korean</td>\n",
       "      <td>false</td>\n",
       "      <td>2</td>\n",
       "      <td>1505692800</td>\n",
       "      <td>64</td>\n",
       "      <td>51</td>\n",
       "      <td>1</td>\n",
       "      <td>18</td>\n",
       "      <td>14039958</td>\n",
       "      <td>31</td>\n",
       "    </tr>\n",
       "    <tr>\n",
       "      <th>3</th>\n",
       "      <td>mat</td>\n",
       "      <td>false</td>\n",
       "      <td>3</td>\n",
       "      <td>1501027200</td>\n",
       "      <td>126</td>\n",
       "      <td>107</td>\n",
       "      <td>1</td>\n",
       "      <td>4</td>\n",
       "      <td>28926058</td>\n",
       "      <td>86</td>\n",
       "    </tr>\n",
       "    <tr>\n",
       "      <th>4</th>\n",
       "      <td>90s</td>\n",
       "      <td>false</td>\n",
       "      <td>4</td>\n",
       "      <td>1401667200</td>\n",
       "      <td>17</td>\n",
       "      <td>16</td>\n",
       "      <td>2</td>\n",
       "      <td>7</td>\n",
       "      <td>4335282</td>\n",
       "      <td>16</td>\n",
       "    </tr>\n",
       "    <tr>\n",
       "      <th>...</th>\n",
       "      <td>...</td>\n",
       "      <td>...</td>\n",
       "      <td>...</td>\n",
       "      <td>...</td>\n",
       "      <td>...</td>\n",
       "      <td>...</td>\n",
       "      <td>...</td>\n",
       "      <td>...</td>\n",
       "      <td>...</td>\n",
       "      <td>...</td>\n",
       "    </tr>\n",
       "    <tr>\n",
       "      <th>14995</th>\n",
       "      <td>Mix</td>\n",
       "      <td>false</td>\n",
       "      <td>14995</td>\n",
       "      <td>1509408000</td>\n",
       "      <td>183</td>\n",
       "      <td>148</td>\n",
       "      <td>1</td>\n",
       "      <td>54</td>\n",
       "      <td>42537814</td>\n",
       "      <td>121</td>\n",
       "    </tr>\n",
       "    <tr>\n",
       "      <th>14996</th>\n",
       "      <td>Tunage</td>\n",
       "      <td>false</td>\n",
       "      <td>14996</td>\n",
       "      <td>1495929600</td>\n",
       "      <td>18</td>\n",
       "      <td>17</td>\n",
       "      <td>1</td>\n",
       "      <td>4</td>\n",
       "      <td>4011515</td>\n",
       "      <td>13</td>\n",
       "    </tr>\n",
       "    <tr>\n",
       "      <th>14997</th>\n",
       "      <td>Eric</td>\n",
       "      <td>false</td>\n",
       "      <td>14997</td>\n",
       "      <td>1501891200</td>\n",
       "      <td>36</td>\n",
       "      <td>27</td>\n",
       "      <td>1</td>\n",
       "      <td>4</td>\n",
       "      <td>8354470</td>\n",
       "      <td>17</td>\n",
       "    </tr>\n",
       "    <tr>\n",
       "      <th>14998</th>\n",
       "      <td>walking on a dream</td>\n",
       "      <td>false</td>\n",
       "      <td>14998</td>\n",
       "      <td>1392249600</td>\n",
       "      <td>61</td>\n",
       "      <td>39</td>\n",
       "      <td>1</td>\n",
       "      <td>3</td>\n",
       "      <td>14245495</td>\n",
       "      <td>27</td>\n",
       "    </tr>\n",
       "    <tr>\n",
       "      <th>14999</th>\n",
       "      <td>Summer 17</td>\n",
       "      <td>false</td>\n",
       "      <td>14999</td>\n",
       "      <td>1499731200</td>\n",
       "      <td>33</td>\n",
       "      <td>27</td>\n",
       "      <td>1</td>\n",
       "      <td>8</td>\n",
       "      <td>7552824</td>\n",
       "      <td>23</td>\n",
       "    </tr>\n",
       "  </tbody>\n",
       "</table>\n",
       "<p>15000 rows × 10 columns</p>\n",
       "</div>"
      ],
      "text/plain": [
       "                     name collaborative    pid modified_at num_tracks  \\\n",
       "0              Throwbacks         false      0  1493424000         52   \n",
       "1        Awesome Playlist         false      1  1506556800         39   \n",
       "2                  korean         false      2  1505692800         64   \n",
       "3                     mat         false      3  1501027200        126   \n",
       "4                     90s         false      4  1401667200         17   \n",
       "...                   ...           ...    ...         ...        ...   \n",
       "14995                 Mix         false  14995  1509408000        183   \n",
       "14996              Tunage         false  14996  1495929600         18   \n",
       "14997                Eric         false  14997  1501891200         36   \n",
       "14998  walking on a dream         false  14998  1392249600         61   \n",
       "14999           Summer 17         false  14999  1499731200         33   \n",
       "\n",
       "      num_albums num_followers num_edits duration_ms num_artists  \n",
       "0             47             1         6    11532414          37  \n",
       "1             23             1         5    11656470          21  \n",
       "2             51             1        18    14039958          31  \n",
       "3            107             1         4    28926058          86  \n",
       "4             16             2         7     4335282          16  \n",
       "...          ...           ...       ...         ...         ...  \n",
       "14995        148             1        54    42537814         121  \n",
       "14996         17             1         4     4011515          13  \n",
       "14997         27             1         4     8354470          17  \n",
       "14998         39             1         3    14245495          27  \n",
       "14999         27             1         8     7552824          23  \n",
       "\n",
       "[15000 rows x 10 columns]"
      ]
     },
     "execution_count": 1,
     "metadata": {},
     "output_type": "execute_result"
    }
   ],
   "source": [
    "import pandas as pd\n",
    "\n",
    "playlists = []\n",
    "for i in range(0, 15000, 1000):\n",
    "    playlists.append(pd.read_csv(f'D:\\\\million_playlist_dataset_csv\\\\playlists_{i}-{i+999}.csv',  dtype=str))\n",
    "playlists = pd.concat(playlists, ignore_index=True)\n",
    "playlists"
   ]
  },
  {
   "cell_type": "code",
   "execution_count": 2,
   "id": "adapted-vintage",
   "metadata": {},
   "outputs": [],
   "source": [
    "import csv\n",
    "\n",
    "with open('D:\\\\extracted_features\\\\all_playlists.csv', 'w', encoding='UTF8', newline='') as f:\n",
    "    writer = csv.writer(f)\n",
    "    \n",
    "    writer.writerow(playlists.columns)\n",
    "    \n",
    "    writer.writerows(playlists.values)"
   ]
  },
  {
   "cell_type": "code",
   "execution_count": 8,
   "id": "intense-refund",
   "metadata": {},
   "outputs": [
    {
     "data": {
      "image/png": "[encoded data removed]",
      "text/plain": [
       "<Figure size 432x288 with 1 Axes>"
      ]
     },
     "metadata": {
      "needs_background": "light"
     },
     "output_type": "display_data"
    }
   ],
   "source": [
    "import matplotlib.pyplot as plt\n",
    "\n",
    "plt.bar(range(0,15000), sorted([int(i) for i in playlists['num_tracks']]))\n",
    "plt.show()"
   ]
  },
  {
   "cell_type": "code",
   "execution_count": 6,
   "id": "quantitative-hampshire",
   "metadata": {},
   "outputs": [
    {
     "data": {
      "text/plain": [
       "5"
      ]
     },
     "execution_count": 6,
     "metadata": {},
     "output_type": "execute_result"
    }
   ],
   "source": [
    "min([int(i) for i in playlists['num_tracks']])"
   ]
  },
  {
   "cell_type": "code",
   "execution_count": 7,
   "id": "lovely-ethnic",
   "metadata": {},
   "outputs": [
    {
     "data": {
      "text/plain": [
       "250"
      ]
     },
     "execution_count": 7,
     "metadata": {},
     "output_type": "execute_result"
    }
   ],
   "source": [
    "max([int(i) for i in playlists['num_tracks']])"
   ]
  },
  {
   "cell_type": "code",
   "execution_count": 2,
   "id": "focused-conjunction",
   "metadata": {},
   "outputs": [
    {
     "data": {
      "text/html": [
       "<div>\n",
       "<style scoped>\n",
       "    .dataframe tbody tr th:only-of-type {\n",
       "        vertical-align: middle;\n",
       "    }\n",
       "\n",
       "    .dataframe tbody tr th {\n",
       "        vertical-align: top;\n",
       "    }\n",
       "\n",
       "    .dataframe thead th {\n",
       "        text-align: right;\n",
       "    }\n",
       "</style>\n",
       "<table border=\"1\" class=\"dataframe\">\n",
       "  <thead>\n",
       "    <tr style=\"text-align: right;\">\n",
       "      <th></th>\n",
       "      <th>pid</th>\n",
       "      <th>track_uri</th>\n",
       "      <th>pos</th>\n",
       "    </tr>\n",
       "  </thead>\n",
       "  <tbody>\n",
       "    <tr>\n",
       "      <th>0</th>\n",
       "      <td>0</td>\n",
       "      <td>spotify:track:0UaMYEvWZi0ZqiDOoHU3YI</td>\n",
       "      <td>0</td>\n",
       "    </tr>\n",
       "    <tr>\n",
       "      <th>1</th>\n",
       "      <td>0</td>\n",
       "      <td>spotify:track:6I9VzXrHxO9rA9A5euc8Ak</td>\n",
       "      <td>1</td>\n",
       "    </tr>\n",
       "    <tr>\n",
       "      <th>2</th>\n",
       "      <td>0</td>\n",
       "      <td>spotify:track:0WqIKmW4BTrj3eJFmnCKMv</td>\n",
       "      <td>2</td>\n",
       "    </tr>\n",
       "    <tr>\n",
       "      <th>3</th>\n",
       "      <td>0</td>\n",
       "      <td>spotify:track:1AWQoqb9bSvzTjaLralEkT</td>\n",
       "      <td>3</td>\n",
       "    </tr>\n",
       "    <tr>\n",
       "      <th>4</th>\n",
       "      <td>0</td>\n",
       "      <td>spotify:track:1lzr43nnXAijIGYnCT8M8H</td>\n",
       "      <td>4</td>\n",
       "    </tr>\n",
       "    <tr>\n",
       "      <th>...</th>\n",
       "      <td>...</td>\n",
       "      <td>...</td>\n",
       "      <td>...</td>\n",
       "    </tr>\n",
       "    <tr>\n",
       "      <th>998404</th>\n",
       "      <td>14999</td>\n",
       "      <td>spotify:track:5hTpBe8h35rJ67eAWHQsJx</td>\n",
       "      <td>28</td>\n",
       "    </tr>\n",
       "    <tr>\n",
       "      <th>998405</th>\n",
       "      <td>14999</td>\n",
       "      <td>spotify:track:3kxfsdsCpFgN412fpnW85Y</td>\n",
       "      <td>29</td>\n",
       "    </tr>\n",
       "    <tr>\n",
       "      <th>998406</th>\n",
       "      <td>14999</td>\n",
       "      <td>spotify:track:6eT7xZZlB2mwyzJ2sUKG6w</td>\n",
       "      <td>30</td>\n",
       "    </tr>\n",
       "    <tr>\n",
       "      <th>998407</th>\n",
       "      <td>14999</td>\n",
       "      <td>spotify:track:4Q3N4Ct4zCuIHuZ65E3BD4</td>\n",
       "      <td>31</td>\n",
       "    </tr>\n",
       "    <tr>\n",
       "      <th>998408</th>\n",
       "      <td>14999</td>\n",
       "      <td>spotify:track:0VgkVdmE4gld66l8iyGjgx</td>\n",
       "      <td>32</td>\n",
       "    </tr>\n",
       "  </tbody>\n",
       "</table>\n",
       "<p>998409 rows × 3 columns</p>\n",
       "</div>"
      ],
      "text/plain": [
       "          pid                             track_uri pos\n",
       "0           0  spotify:track:0UaMYEvWZi0ZqiDOoHU3YI   0\n",
       "1           0  spotify:track:6I9VzXrHxO9rA9A5euc8Ak   1\n",
       "2           0  spotify:track:0WqIKmW4BTrj3eJFmnCKMv   2\n",
       "3           0  spotify:track:1AWQoqb9bSvzTjaLralEkT   3\n",
       "4           0  spotify:track:1lzr43nnXAijIGYnCT8M8H   4\n",
       "...       ...                                   ...  ..\n",
       "998404  14999  spotify:track:5hTpBe8h35rJ67eAWHQsJx  28\n",
       "998405  14999  spotify:track:3kxfsdsCpFgN412fpnW85Y  29\n",
       "998406  14999  spotify:track:6eT7xZZlB2mwyzJ2sUKG6w  30\n",
       "998407  14999  spotify:track:4Q3N4Ct4zCuIHuZ65E3BD4  31\n",
       "998408  14999  spotify:track:0VgkVdmE4gld66l8iyGjgx  32\n",
       "\n",
       "[998409 rows x 3 columns]"
      ]
     },
     "execution_count": 2,
     "metadata": {},
     "output_type": "execute_result"
    }
   ],
   "source": [
    "playlists_tracks = []\n",
    "for i in range(0, 15000, 1000):\n",
    "    playlists_tracks.append(pd.read_csv(f'D:\\\\million_playlist_dataset_csv\\\\playlist_tracks_{i}-{i+999}.csv',  dtype=str))\n",
    "playlists_tracks = pd.concat(playlists_tracks, ignore_index=True)\n",
    "playlists_tracks"
   ]
  },
  {
   "cell_type": "code",
   "execution_count": 22,
   "id": "upset-singles",
   "metadata": {},
   "outputs": [],
   "source": [
    "#generating positive examples\n",
    "\n",
    "indexes_removal = []\n",
    "positive_samples = []\n",
    "\n",
    "for i in range(0, 15000):\n",
    "    current_playlist = playlists_tracks[playlists_tracks.pid == str(i)]\n",
    "    if int(playlists['num_tracks'][i]) > 50:\n",
    "        starting_point = int(playlists['num_tracks'][i]) - int(int(playlists['num_tracks'][i]) * 0.1)\n",
    "        for j in range(0, int(int(playlists['num_tracks'][i]) * 0.1)):\n",
    "            indexes_removal.append(current_playlist[current_playlist['pos'] == str(starting_point+j)].index[0])\n",
    "            positive_samples.append(current_playlist[current_playlist['pos'] == str(starting_point+j)].values[0])"
   ]
  },
  {
   "cell_type": "code",
   "execution_count": 23,
   "id": "beautiful-inspector",
   "metadata": {},
   "outputs": [
    {
     "name": "stdout",
     "output_type": "stream",
     "text": [
      "-75974\n"
     ]
    }
   ],
   "source": [
    "prev_len = len(playlists_tracks)\n",
    "playlists_tracks = playlists_tracks.drop(indexes_removal, axis=0)\n",
    "test_len = len(playlists_tracks)\n",
    "num_samples = test_len - prev_len\n",
    "print(num_samples)"
   ]
  },
  {
   "cell_type": "code",
   "execution_count": 31,
   "id": "trained-optimum",
   "metadata": {},
   "outputs": [
    {
     "name": "stdout",
     "output_type": "stream",
     "text": [
      "[['0', 'spotify:track:3jkdQNkDTxxXtjSO4l0o1H', 1], ['0', 'spotify:track:5c1sfI6wIQEsSUw0xrkFdl', 1], ['0', 'spotify:track:6sqNctd7MlJoKDOxPVCAvU', 1], ['0', 'spotify:track:1b7vg5T9YKR3NNqXfBYRF7', 1], ['0', 'spotify:track:6GIrIt2M39wEGwjCQjGChX', 1], ['2', 'spotify:track:1jHmGj123EpOxXd9S1PpFF', 1], ['2', 'spotify:track:6NB81kD2XDeTdNBksV0yxM', 1], ['2', 'spotify:track:7iV733e1KacKrFRaBNxVEf', 1], ['2', 'spotify:track:5SE57ljOIUJ1ybL9U6CuBH', 1], ['2', 'spotify:track:3ryjLm3oupIjJFGc39naNi', 1]]\n"
     ]
    }
   ],
   "source": [
    "all_samples=[]\n",
    "for sample in positive_samples:\n",
    "    sample[2] = 1\n",
    "    all_samples.append(list(sample))\n",
    "print(all_samples[:10])"
   ]
  },
  {
   "cell_type": "code",
   "execution_count": 16,
   "id": "particular-estate",
   "metadata": {},
   "outputs": [
    {
     "name": "stdout",
     "output_type": "stream",
     "text": [
      "3000000\n"
     ]
    }
   ],
   "source": [
    "unique_tracks = list(set(playlists_tracks['track_uri']))\n",
    "pairs = []\n",
    "[[pairs.append([playlist, track]) for track in unique_tracks[:200]]for playlist in playlists.pid]\n",
    "        \n",
    "print(len(pairs))"
   ]
  },
  {
   "cell_type": "code",
   "execution_count": 4,
   "id": "accurate-undergraduate",
   "metadata": {},
   "outputs": [
    {
     "data": {
      "text/html": [
       "<div>\n",
       "<style scoped>\n",
       "    .dataframe tbody tr th:only-of-type {\n",
       "        vertical-align: middle;\n",
       "    }\n",
       "\n",
       "    .dataframe tbody tr th {\n",
       "        vertical-align: top;\n",
       "    }\n",
       "\n",
       "    .dataframe thead th {\n",
       "        text-align: right;\n",
       "    }\n",
       "</style>\n",
       "<table border=\"1\" class=\"dataframe\">\n",
       "  <thead>\n",
       "    <tr style=\"text-align: right;\">\n",
       "      <th></th>\n",
       "      <th>pid</th>\n",
       "      <th>track_uri</th>\n",
       "    </tr>\n",
       "  </thead>\n",
       "  <tbody>\n",
       "    <tr>\n",
       "      <th>0</th>\n",
       "      <td>0</td>\n",
       "      <td>spotify:track:0UaMYEvWZi0ZqiDOoHU3YI</td>\n",
       "    </tr>\n",
       "    <tr>\n",
       "      <th>1</th>\n",
       "      <td>0</td>\n",
       "      <td>spotify:track:6I9VzXrHxO9rA9A5euc8Ak</td>\n",
       "    </tr>\n",
       "    <tr>\n",
       "      <th>2</th>\n",
       "      <td>0</td>\n",
       "      <td>spotify:track:0WqIKmW4BTrj3eJFmnCKMv</td>\n",
       "    </tr>\n",
       "    <tr>\n",
       "      <th>3</th>\n",
       "      <td>0</td>\n",
       "      <td>spotify:track:1AWQoqb9bSvzTjaLralEkT</td>\n",
       "    </tr>\n",
       "    <tr>\n",
       "      <th>4</th>\n",
       "      <td>0</td>\n",
       "      <td>spotify:track:1lzr43nnXAijIGYnCT8M8H</td>\n",
       "    </tr>\n",
       "    <tr>\n",
       "      <th>...</th>\n",
       "      <td>...</td>\n",
       "      <td>...</td>\n",
       "    </tr>\n",
       "    <tr>\n",
       "      <th>998404</th>\n",
       "      <td>14999</td>\n",
       "      <td>spotify:track:5hTpBe8h35rJ67eAWHQsJx</td>\n",
       "    </tr>\n",
       "    <tr>\n",
       "      <th>998405</th>\n",
       "      <td>14999</td>\n",
       "      <td>spotify:track:3kxfsdsCpFgN412fpnW85Y</td>\n",
       "    </tr>\n",
       "    <tr>\n",
       "      <th>998406</th>\n",
       "      <td>14999</td>\n",
       "      <td>spotify:track:6eT7xZZlB2mwyzJ2sUKG6w</td>\n",
       "    </tr>\n",
       "    <tr>\n",
       "      <th>998407</th>\n",
       "      <td>14999</td>\n",
       "      <td>spotify:track:4Q3N4Ct4zCuIHuZ65E3BD4</td>\n",
       "    </tr>\n",
       "    <tr>\n",
       "      <th>998408</th>\n",
       "      <td>14999</td>\n",
       "      <td>spotify:track:0VgkVdmE4gld66l8iyGjgx</td>\n",
       "    </tr>\n",
       "  </tbody>\n",
       "</table>\n",
       "<p>998409 rows × 2 columns</p>\n",
       "</div>"
      ],
      "text/plain": [
       "          pid                             track_uri\n",
       "0           0  spotify:track:0UaMYEvWZi0ZqiDOoHU3YI\n",
       "1           0  spotify:track:6I9VzXrHxO9rA9A5euc8Ak\n",
       "2           0  spotify:track:0WqIKmW4BTrj3eJFmnCKMv\n",
       "3           0  spotify:track:1AWQoqb9bSvzTjaLralEkT\n",
       "4           0  spotify:track:1lzr43nnXAijIGYnCT8M8H\n",
       "...       ...                                   ...\n",
       "998404  14999  spotify:track:5hTpBe8h35rJ67eAWHQsJx\n",
       "998405  14999  spotify:track:3kxfsdsCpFgN412fpnW85Y\n",
       "998406  14999  spotify:track:6eT7xZZlB2mwyzJ2sUKG6w\n",
       "998407  14999  spotify:track:4Q3N4Ct4zCuIHuZ65E3BD4\n",
       "998408  14999  spotify:track:0VgkVdmE4gld66l8iyGjgx\n",
       "\n",
       "[998409 rows x 2 columns]"
      ]
     },
     "execution_count": 4,
     "metadata": {},
     "output_type": "execute_result"
    }
   ],
   "source": [
    "import copy\n",
    "few_samples = copy.deepcopy(playlists_tracks)\n",
    "few_samples = few_samples.drop('pos', axis=1)\n",
    "few_samples"
   ]
  },
  {
   "cell_type": "code",
   "execution_count": 17,
   "id": "pleased-parent",
   "metadata": {},
   "outputs": [
    {
     "name": "stdout",
     "output_type": "stream",
     "text": [
      "2998758\n"
     ]
    }
   ],
   "source": [
    "negative_samples = set(map(tuple, pairs)) - set(map(tuple, few_samples.values))\n",
    "print(len(negative_samples))"
   ]
  },
  {
   "cell_type": "code",
   "execution_count": 21,
   "id": "extra-matter",
   "metadata": {},
   "outputs": [],
   "source": [
    "negative_samples = list([list(i) for i in negative_samples])"
   ]
  },
  {
   "cell_type": "code",
   "execution_count": 32,
   "id": "prompt-preservation",
   "metadata": {},
   "outputs": [
    {
     "name": "stdout",
     "output_type": "stream",
     "text": [
      "[['11564', 'spotify:track:07e7Tt9dcJca7JdxwEd304', 0], ['1803', 'spotify:track:66fjBB43iramIyjHulpkMN', 0], ['7854', 'spotify:track:0FsqhyyHNZJfK29IpHihMK', 0], ['11352', 'spotify:track:1QE4KBHZb0Y4ERG18VEm3y', 0], ['6170', 'spotify:track:6agmW4sFkZfrq5wMzyQM8k', 0], ['6159', 'spotify:track:7x0HnmGefWjzGKOFlaztXh', 0], ['12275', 'spotify:track:4W2SU5ENHBiifn4KnRqgte', 0], ['13866', 'spotify:track:6P415bdEuyzdqSp8BHvQ6Z', 0], ['1796', 'spotify:track:6zanFFQdHko2cV8gQfaAL4', 0], ['14170', 'spotify:track:6agmW4sFkZfrq5wMzyQM8k', 0]]\n"
     ]
    }
   ],
   "source": [
    "for sample in negative_samples[:75974]:\n",
    "    all_samples.append(sample)\n",
    "print(negative_samples[:10])"
   ]
  },
  {
   "cell_type": "code",
   "execution_count": 33,
   "id": "lightweight-closing",
   "metadata": {},
   "outputs": [],
   "source": [
    "import csv\n",
    "\n",
    "csv_headers = ['pid','track_uri','link']\n",
    "\n",
    "with open('D:\\\\extracted_features\\\\test_samples.csv', 'w', encoding='UTF8', newline='') as f:\n",
    "    writer = csv.writer(f)\n",
    "    \n",
    "    writer.writerow(csv_headers)\n",
    "    \n",
    "    writer.writerows(all_samples)"
   ]
  },
  {
   "cell_type": "code",
   "execution_count": 34,
   "id": "demonstrated-fishing",
   "metadata": {},
   "outputs": [
    {
     "data": {
      "text/html": [
       "<div>\n",
       "<style scoped>\n",
       "    .dataframe tbody tr th:only-of-type {\n",
       "        vertical-align: middle;\n",
       "    }\n",
       "\n",
       "    .dataframe tbody tr th {\n",
       "        vertical-align: top;\n",
       "    }\n",
       "\n",
       "    .dataframe thead th {\n",
       "        text-align: right;\n",
       "    }\n",
       "</style>\n",
       "<table border=\"1\" class=\"dataframe\">\n",
       "  <thead>\n",
       "    <tr style=\"text-align: right;\">\n",
       "      <th></th>\n",
       "      <th>pid</th>\n",
       "      <th>track_uri</th>\n",
       "      <th>pos</th>\n",
       "    </tr>\n",
       "  </thead>\n",
       "  <tbody>\n",
       "    <tr>\n",
       "      <th>0</th>\n",
       "      <td>0</td>\n",
       "      <td>spotify:track:0UaMYEvWZi0ZqiDOoHU3YI</td>\n",
       "      <td>0</td>\n",
       "    </tr>\n",
       "    <tr>\n",
       "      <th>1</th>\n",
       "      <td>0</td>\n",
       "      <td>spotify:track:6I9VzXrHxO9rA9A5euc8Ak</td>\n",
       "      <td>1</td>\n",
       "    </tr>\n",
       "    <tr>\n",
       "      <th>2</th>\n",
       "      <td>0</td>\n",
       "      <td>spotify:track:0WqIKmW4BTrj3eJFmnCKMv</td>\n",
       "      <td>2</td>\n",
       "    </tr>\n",
       "    <tr>\n",
       "      <th>3</th>\n",
       "      <td>0</td>\n",
       "      <td>spotify:track:1AWQoqb9bSvzTjaLralEkT</td>\n",
       "      <td>3</td>\n",
       "    </tr>\n",
       "    <tr>\n",
       "      <th>4</th>\n",
       "      <td>0</td>\n",
       "      <td>spotify:track:1lzr43nnXAijIGYnCT8M8H</td>\n",
       "      <td>4</td>\n",
       "    </tr>\n",
       "    <tr>\n",
       "      <th>...</th>\n",
       "      <td>...</td>\n",
       "      <td>...</td>\n",
       "      <td>...</td>\n",
       "    </tr>\n",
       "    <tr>\n",
       "      <th>998404</th>\n",
       "      <td>14999</td>\n",
       "      <td>spotify:track:5hTpBe8h35rJ67eAWHQsJx</td>\n",
       "      <td>28</td>\n",
       "    </tr>\n",
       "    <tr>\n",
       "      <th>998405</th>\n",
       "      <td>14999</td>\n",
       "      <td>spotify:track:3kxfsdsCpFgN412fpnW85Y</td>\n",
       "      <td>29</td>\n",
       "    </tr>\n",
       "    <tr>\n",
       "      <th>998406</th>\n",
       "      <td>14999</td>\n",
       "      <td>spotify:track:6eT7xZZlB2mwyzJ2sUKG6w</td>\n",
       "      <td>30</td>\n",
       "    </tr>\n",
       "    <tr>\n",
       "      <th>998407</th>\n",
       "      <td>14999</td>\n",
       "      <td>spotify:track:4Q3N4Ct4zCuIHuZ65E3BD4</td>\n",
       "      <td>31</td>\n",
       "    </tr>\n",
       "    <tr>\n",
       "      <th>998408</th>\n",
       "      <td>14999</td>\n",
       "      <td>spotify:track:0VgkVdmE4gld66l8iyGjgx</td>\n",
       "      <td>32</td>\n",
       "    </tr>\n",
       "  </tbody>\n",
       "</table>\n",
       "<p>922435 rows × 3 columns</p>\n",
       "</div>"
      ],
      "text/plain": [
       "          pid                             track_uri pos\n",
       "0           0  spotify:track:0UaMYEvWZi0ZqiDOoHU3YI   0\n",
       "1           0  spotify:track:6I9VzXrHxO9rA9A5euc8Ak   1\n",
       "2           0  spotify:track:0WqIKmW4BTrj3eJFmnCKMv   2\n",
       "3           0  spotify:track:1AWQoqb9bSvzTjaLralEkT   3\n",
       "4           0  spotify:track:1lzr43nnXAijIGYnCT8M8H   4\n",
       "...       ...                                   ...  ..\n",
       "998404  14999  spotify:track:5hTpBe8h35rJ67eAWHQsJx  28\n",
       "998405  14999  spotify:track:3kxfsdsCpFgN412fpnW85Y  29\n",
       "998406  14999  spotify:track:6eT7xZZlB2mwyzJ2sUKG6w  30\n",
       "998407  14999  spotify:track:4Q3N4Ct4zCuIHuZ65E3BD4  31\n",
       "998408  14999  spotify:track:0VgkVdmE4gld66l8iyGjgx  32\n",
       "\n",
       "[922435 rows x 3 columns]"
      ]
     },
     "execution_count": 34,
     "metadata": {},
     "output_type": "execute_result"
    }
   ],
   "source": [
    "playlists_tracks"
   ]
  },
  {
   "cell_type": "code",
   "execution_count": 35,
   "id": "humanitarian-signal",
   "metadata": {},
   "outputs": [],
   "source": [
    "import csv\n",
    "\n",
    "csv_headers = ['pid','track_uri','pos']\n",
    "\n",
    "with open('D:\\\\extracted_features\\\\test_edges_graph.csv', 'w', encoding='UTF8', newline='') as f:\n",
    "    writer = csv.writer(f)\n",
    "    \n",
    "    writer.writerow(csv_headers)\n",
    "    \n",
    "    writer.writerows(playlists_tracks.values)"
   ]
  },
  {
   "cell_type": "code",
   "execution_count": 42,
   "id": "gothic-dispute",
   "metadata": {},
   "outputs": [],
   "source": [
    "#generating positive examples\n",
    "\n",
    "indexes_removal = []\n",
    "positive_samples = []\n",
    "\n",
    "for i in range(0, 15000):\n",
    "    current_playlist = playlists_tracks[playlists_tracks.pid == str(i)]\n",
    "    #print(current_playlist)\n",
    "    if int(playlists['num_tracks'][i]) > 50:\n",
    "        starting_point = int(playlists['num_tracks'][i]) - int(int(playlists['num_tracks'][i]) * 0.3)\n",
    "        for j in range(0, int(int(playlists['num_tracks'][i]) * 0.2)):\n",
    "            #print(current_playlist[current_playlist['pos'] == str(starting_point+j)].index[0])\n",
    "            indexes_removal.append(current_playlist[current_playlist['pos'] == str(starting_point+j)].index[0])\n",
    "            positive_samples.append(current_playlist[current_playlist['pos'] == str(starting_point+j)].values[0])"
   ]
  },
  {
   "cell_type": "code",
   "execution_count": 43,
   "id": "higher-photography",
   "metadata": {},
   "outputs": [
    {
     "name": "stdout",
     "output_type": "stream",
     "text": [
      "155429\n"
     ]
    }
   ],
   "source": [
    "prev_len = len(playlists_tracks)\n",
    "playlists_tracks = playlists_tracks.drop(indexes_removal, axis=0)\n",
    "test_len = len(playlists_tracks)\n",
    "num_samples = prev_len - test_len\n",
    "print(num_samples)"
   ]
  },
  {
   "cell_type": "code",
   "execution_count": 44,
   "id": "above-aircraft",
   "metadata": {},
   "outputs": [
    {
     "name": "stdout",
     "output_type": "stream",
     "text": [
      "[['0', 'spotify:track:1kusepF3AacIEtUTYrw4GV', 1], ['0', 'spotify:track:7oK9VyNzrYvRFo7nQEYkWN', 1], ['0', 'spotify:track:12qZHAeOyTf93YAWvGDTat', 1], ['0', 'spotify:track:2jFlMILIQzs7lSFudG9lbo', 1], ['0', 'spotify:track:4I2GqMe7L2ccMpUbnDzYLH', 1], ['0', 'spotify:track:5lDriBxJd22IhOH9zTcFrV', 1], ['0', 'spotify:track:2eJ8ij1T3cNUKiGdcUvKhy', 1], ['0', 'spotify:track:5y69gQtK33qxb8a24ACkCy', 1], ['0', 'spotify:track:1X5WGCrUMuwRFuYU1eAo2I', 1], ['0', 'spotify:track:3utIAb67sOu0QHxBE88P1M', 1]]\n"
     ]
    }
   ],
   "source": [
    "all_samples=[]\n",
    "for sample in positive_samples:\n",
    "    sample[2] = 1\n",
    "    all_samples.append(list(sample))\n",
    "print(all_samples[:10])"
   ]
  },
  {
   "cell_type": "code",
   "execution_count": 45,
   "id": "assisted-commercial",
   "metadata": {},
   "outputs": [
    {
     "name": "stdout",
     "output_type": "stream",
     "text": [
      "[['11564', 'spotify:track:07e7Tt9dcJca7JdxwEd304', 0], ['1803', 'spotify:track:66fjBB43iramIyjHulpkMN', 0], ['7854', 'spotify:track:0FsqhyyHNZJfK29IpHihMK', 0], ['11352', 'spotify:track:1QE4KBHZb0Y4ERG18VEm3y', 0], ['6170', 'spotify:track:6agmW4sFkZfrq5wMzyQM8k', 0], ['6159', 'spotify:track:7x0HnmGefWjzGKOFlaztXh', 0], ['12275', 'spotify:track:4W2SU5ENHBiifn4KnRqgte', 0], ['13866', 'spotify:track:6P415bdEuyzdqSp8BHvQ6Z', 0], ['1796', 'spotify:track:6zanFFQdHko2cV8gQfaAL4', 0], ['14170', 'spotify:track:6agmW4sFkZfrq5wMzyQM8k', 0]]\n"
     ]
    }
   ],
   "source": [
    "for sample in negative_samples[75974:231403]:\n",
    "    sample.append(0)\n",
    "    all_samples.append(sample)\n",
    "print(negative_samples[:10])"
   ]
  },
  {
   "cell_type": "code",
   "execution_count": 46,
   "id": "institutional-maria",
   "metadata": {},
   "outputs": [
    {
     "name": "stdout",
     "output_type": "stream",
     "text": [
      "310858\n"
     ]
    }
   ],
   "source": [
    "print(len(all_samples))"
   ]
  },
  {
   "cell_type": "code",
   "execution_count": 47,
   "id": "desperate-shade",
   "metadata": {},
   "outputs": [],
   "source": [
    "import csv\n",
    "\n",
    "csv_headers = ['pid','track_uri','link']\n",
    "\n",
    "with open('D:\\\\extracted_features\\\\train_samples.csv', 'w', encoding='UTF8', newline='') as f:\n",
    "    writer = csv.writer(f)\n",
    "    \n",
    "    writer.writerow(csv_headers)\n",
    "    \n",
    "    writer.writerows(all_samples)"
   ]
  },
  {
   "cell_type": "code",
   "execution_count": 48,
   "id": "verbal-behalf",
   "metadata": {},
   "outputs": [
    {
     "data": {
      "text/html": [
       "<div>\n",
       "<style scoped>\n",
       "    .dataframe tbody tr th:only-of-type {\n",
       "        vertical-align: middle;\n",
       "    }\n",
       "\n",
       "    .dataframe tbody tr th {\n",
       "        vertical-align: top;\n",
       "    }\n",
       "\n",
       "    .dataframe thead th {\n",
       "        text-align: right;\n",
       "    }\n",
       "</style>\n",
       "<table border=\"1\" class=\"dataframe\">\n",
       "  <thead>\n",
       "    <tr style=\"text-align: right;\">\n",
       "      <th></th>\n",
       "      <th>pid</th>\n",
       "      <th>track_uri</th>\n",
       "      <th>pos</th>\n",
       "    </tr>\n",
       "  </thead>\n",
       "  <tbody>\n",
       "    <tr>\n",
       "      <th>0</th>\n",
       "      <td>0</td>\n",
       "      <td>spotify:track:0UaMYEvWZi0ZqiDOoHU3YI</td>\n",
       "      <td>0</td>\n",
       "    </tr>\n",
       "    <tr>\n",
       "      <th>1</th>\n",
       "      <td>0</td>\n",
       "      <td>spotify:track:6I9VzXrHxO9rA9A5euc8Ak</td>\n",
       "      <td>1</td>\n",
       "    </tr>\n",
       "    <tr>\n",
       "      <th>2</th>\n",
       "      <td>0</td>\n",
       "      <td>spotify:track:0WqIKmW4BTrj3eJFmnCKMv</td>\n",
       "      <td>2</td>\n",
       "    </tr>\n",
       "    <tr>\n",
       "      <th>3</th>\n",
       "      <td>0</td>\n",
       "      <td>spotify:track:1AWQoqb9bSvzTjaLralEkT</td>\n",
       "      <td>3</td>\n",
       "    </tr>\n",
       "    <tr>\n",
       "      <th>4</th>\n",
       "      <td>0</td>\n",
       "      <td>spotify:track:1lzr43nnXAijIGYnCT8M8H</td>\n",
       "      <td>4</td>\n",
       "    </tr>\n",
       "    <tr>\n",
       "      <th>...</th>\n",
       "      <td>...</td>\n",
       "      <td>...</td>\n",
       "      <td>...</td>\n",
       "    </tr>\n",
       "    <tr>\n",
       "      <th>998404</th>\n",
       "      <td>14999</td>\n",
       "      <td>spotify:track:5hTpBe8h35rJ67eAWHQsJx</td>\n",
       "      <td>28</td>\n",
       "    </tr>\n",
       "    <tr>\n",
       "      <th>998405</th>\n",
       "      <td>14999</td>\n",
       "      <td>spotify:track:3kxfsdsCpFgN412fpnW85Y</td>\n",
       "      <td>29</td>\n",
       "    </tr>\n",
       "    <tr>\n",
       "      <th>998406</th>\n",
       "      <td>14999</td>\n",
       "      <td>spotify:track:6eT7xZZlB2mwyzJ2sUKG6w</td>\n",
       "      <td>30</td>\n",
       "    </tr>\n",
       "    <tr>\n",
       "      <th>998407</th>\n",
       "      <td>14999</td>\n",
       "      <td>spotify:track:4Q3N4Ct4zCuIHuZ65E3BD4</td>\n",
       "      <td>31</td>\n",
       "    </tr>\n",
       "    <tr>\n",
       "      <th>998408</th>\n",
       "      <td>14999</td>\n",
       "      <td>spotify:track:0VgkVdmE4gld66l8iyGjgx</td>\n",
       "      <td>32</td>\n",
       "    </tr>\n",
       "  </tbody>\n",
       "</table>\n",
       "<p>767006 rows × 3 columns</p>\n",
       "</div>"
      ],
      "text/plain": [
       "          pid                             track_uri pos\n",
       "0           0  spotify:track:0UaMYEvWZi0ZqiDOoHU3YI   0\n",
       "1           0  spotify:track:6I9VzXrHxO9rA9A5euc8Ak   1\n",
       "2           0  spotify:track:0WqIKmW4BTrj3eJFmnCKMv   2\n",
       "3           0  spotify:track:1AWQoqb9bSvzTjaLralEkT   3\n",
       "4           0  spotify:track:1lzr43nnXAijIGYnCT8M8H   4\n",
       "...       ...                                   ...  ..\n",
       "998404  14999  spotify:track:5hTpBe8h35rJ67eAWHQsJx  28\n",
       "998405  14999  spotify:track:3kxfsdsCpFgN412fpnW85Y  29\n",
       "998406  14999  spotify:track:6eT7xZZlB2mwyzJ2sUKG6w  30\n",
       "998407  14999  spotify:track:4Q3N4Ct4zCuIHuZ65E3BD4  31\n",
       "998408  14999  spotify:track:0VgkVdmE4gld66l8iyGjgx  32\n",
       "\n",
       "[767006 rows x 3 columns]"
      ]
     },
     "execution_count": 48,
     "metadata": {},
     "output_type": "execute_result"
    }
   ],
   "source": [
    "playlists_tracks"
   ]
  },
  {
   "cell_type": "code",
   "execution_count": 49,
   "id": "animal-grounds",
   "metadata": {},
   "outputs": [],
   "source": [
    "import csv\n",
    "\n",
    "csv_headers = ['pid','track_uri','pos']\n",
    "\n",
    "with open('D:\\\\extracted_features\\\\train_edges_graph.csv', 'w', encoding='UTF8', newline='') as f:\n",
    "    writer = csv.writer(f)\n",
    "    \n",
    "    writer.writerow(csv_headers)\n",
    "    \n",
    "    writer.writerows(playlists_tracks.values)"
   ]
  },
  {
   "cell_type": "code",
   "execution_count": null,
   "id": "younger-jersey",
   "metadata": {},
   "outputs": [],
   "source": []
  }
 ],
 "metadata": {
  "kernelspec": {
   "display_name": "Python 3",
   "language": "python",
   "name": "python3"
  },
  "language_info": {
   "codemirror_mode": {
    "name": "ipython",
    "version": 3
   },
   "file_extension": ".py",
   "mimetype": "text/x-python",
   "name": "python",
   "nbconvert_exporter": "python",
   "pygments_lexer": "ipython3",
   "version": "3.8.0"
  }
 },
 "nbformat": 4,
 "nbformat_minor": 5
}
